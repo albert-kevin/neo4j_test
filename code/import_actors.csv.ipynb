{
 "cells": [
  {
   "cell_type": "code",
   "execution_count": 1,
   "metadata": {},
   "outputs": [],
   "source": [
    "url = \"http://data.neo4j.com/intro-neo4j/actors.csv\""
   ]
  },
  {
   "cell_type": "code",
   "execution_count": 3,
   "metadata": {},
   "outputs": [
    {
     "name": "stdout",
     "output_type": "stream",
     "text": [
      "Collecting py2neo\n",
      "Requirement already satisfied: pygments<2.4,>=2.3.0 in /opt/conda/lib/python3.7/site-packages (from py2neo) (2.3.1)\n",
      "Collecting neotime<1.8,>=1.7.4 (from py2neo)\n",
      "Requirement already satisfied: prompt-toolkit<2.1,>=2.0.7 in /opt/conda/lib/python3.7/site-packages (from py2neo) (2.0.9)\n",
      "Requirement already satisfied: colorama in /opt/conda/lib/python3.7/site-packages (from py2neo) (0.4.1)\n",
      "Requirement already satisfied: click>=7.0 in /opt/conda/lib/python3.7/site-packages (from py2neo) (7.0)\n",
      "Requirement already satisfied: pytz in /opt/conda/lib/python3.7/site-packages (from py2neo) (2018.9)\n",
      "Requirement already satisfied: urllib3[secure]<1.25,>=1.23 in /opt/conda/lib/python3.7/site-packages (from py2neo) (1.24.1)\n",
      "Collecting neobolt<1.8,>=1.7.3 (from py2neo)\n",
      "Requirement already satisfied: six in /opt/conda/lib/python3.7/site-packages (from neotime<1.8,>=1.7.4->py2neo) (1.12.0)\n",
      "Requirement already satisfied: wcwidth in /opt/conda/lib/python3.7/site-packages (from prompt-toolkit<2.1,>=2.0.7->py2neo) (0.1.7)\n",
      "Requirement already satisfied: pyOpenSSL>=0.14 in /opt/conda/lib/python3.7/site-packages (from urllib3[secure]<1.25,>=1.23->py2neo) (19.0.0)\n",
      "Requirement already satisfied: cryptography>=1.3.4 in /opt/conda/lib/python3.7/site-packages (from urllib3[secure]<1.25,>=1.23->py2neo) (2.6.1)\n",
      "Requirement already satisfied: idna>=2.0.0 in /opt/conda/lib/python3.7/site-packages (from urllib3[secure]<1.25,>=1.23->py2neo) (2.8)\n",
      "Requirement already satisfied: certifi in /opt/conda/lib/python3.7/site-packages (from urllib3[secure]<1.25,>=1.23->py2neo) (2019.3.9)\n",
      "Collecting ipaddress (from urllib3[secure]<1.25,>=1.23->py2neo)\n",
      "  Using cached https://files.pythonhosted.org/packages/fc/d0/7fc3a811e011d4b388be48a0e381db8d990042df54aa4ef4599a31d39853/ipaddress-1.0.22-py2.py3-none-any.whl\n",
      "Requirement already satisfied: cffi!=1.11.3,>=1.8 in /opt/conda/lib/python3.7/site-packages (from cryptography>=1.3.4->urllib3[secure]<1.25,>=1.23->py2neo) (1.12.2)\n",
      "Requirement already satisfied: asn1crypto>=0.21.0 in /opt/conda/lib/python3.7/site-packages (from cryptography>=1.3.4->urllib3[secure]<1.25,>=1.23->py2neo) (0.24.0)\n",
      "Requirement already satisfied: pycparser in /opt/conda/lib/python3.7/site-packages (from cffi!=1.11.3,>=1.8->cryptography>=1.3.4->urllib3[secure]<1.25,>=1.23->py2neo) (2.19)\n",
      "Installing collected packages: neotime, neobolt, py2neo, ipaddress\n",
      "Successfully installed ipaddress-1.0.22 neobolt-1.7.4 neotime-1.7.4 py2neo-4.2.0\n"
     ]
    }
   ],
   "source": [
    "!pip install py2neo"
   ]
  },
  {
   "cell_type": "code",
   "execution_count": 4,
   "metadata": {},
   "outputs": [],
   "source": [
    "from py2neo import Graph, Node, Relationship\n",
    "import pandas as pd"
   ]
  },
  {
   "cell_type": "code",
   "execution_count": 5,
   "metadata": {},
   "outputs": [],
   "source": [
    "neo_server = \"52.15.124.208\"\n",
    "user = \"neo4j\"\n",
    "passw = \"digityser\""
   ]
  },
  {
   "cell_type": "code",
   "execution_count": 7,
   "metadata": {},
   "outputs": [],
   "source": [
    "graph = Graph(host=neo_server, auth=(user, passw))"
   ]
  },
  {
   "cell_type": "code",
   "execution_count": 8,
   "metadata": {},
   "outputs": [],
   "source": [
    "# clear your database or delete the database file, stop and start neo4j service\n",
    "graph.delete_all()"
   ]
  },
  {
   "cell_type": "code",
   "execution_count": null,
   "metadata": {},
   "outputs": [],
   "source": [
    "# introducing spaces"
   ]
  },
  {
   "cell_type": "code",
   "execution_count": 177,
   "metadata": {},
   "outputs": [
    {
     "name": "stdout",
     "output_type": "stream",
     "text": [
      "Overwriting ../neo4j/import/sample1.csv\n"
     ]
    }
   ],
   "source": [
    "%%writefile ../neo4j/import/sample1.csv\n",
    "id,name,birthYear,carBrand\n",
    "0,  Kevin Albert ,1981,Renault\n",
    "1,Susan Sarandon,1946,Renault\n",
    "2,Julia Roberts,1967,VW\n",
    "3,Holly Hunter,1958,BMW\n",
    "4,Ariel Winter,1998,BMW\n",
    "5,Goldie Hawn,1945,Tesla\n",
    "6,Diane Keaton,1946,Tesla"
   ]
  },
  {
   "cell_type": "code",
   "execution_count": 166,
   "metadata": {},
   "outputs": [],
   "source": [
    "query = \"\"\"\n",
    "LOAD CSV WITH HEADERS FROM 'file:///sample1.csv' AS line\n",
    "WITH line\n",
    "LIMIT 1\n",
    "RETURN line\n",
    "\"\"\""
   ]
  },
  {
   "cell_type": "code",
   "execution_count": 167,
   "metadata": {},
   "outputs": [],
   "source": [
    "data = graph.run(query)"
   ]
  },
  {
   "cell_type": "code",
   "execution_count": 168,
   "metadata": {},
   "outputs": [
    {
     "data": {
      "text/plain": [
       "<Record line={'carBrand': 'Renault', 'birthYear': '1981', 'name': '  Kevin Albert  ', 'id': '0'}>"
      ]
     },
     "execution_count": 168,
     "metadata": {},
     "output_type": "execute_result"
    }
   ],
   "source": [
    "next(data)"
   ]
  },
  {
   "cell_type": "markdown",
   "metadata": {},
   "source": [
    "## use py2neo for loading csv into neo4j"
   ]
  },
  {
   "cell_type": "code",
   "execution_count": 178,
   "metadata": {},
   "outputs": [
    {
     "data": {
      "text/plain": [
       "<py2neo.database.Cursor at 0x7f5ca7cb2ef0>"
      ]
     },
     "execution_count": 178,
     "metadata": {},
     "output_type": "execute_result"
    }
   ],
   "source": [
    "query = \"\"\"\n",
    "USING PERIODIC COMMIT 2\n",
    "LOAD CSV WITH HEADERS FROM 'file:///sample1.csv' AS line FIELDTERMINATOR ','\n",
    "MERGE (p: Person {id: toInteger(trim(line.id)),\n",
    "                  name: trim(line.name),\n",
    "                  birthyear: toInteger(line.birthYear)})\n",
    "\"\"\"\n",
    "graph.run(query)"
   ]
  },
  {
   "cell_type": "code",
   "execution_count": 179,
   "metadata": {},
   "outputs": [
    {
     "data": {
      "text/plain": [
       "<py2neo.database.Cursor at 0x7f5ca7cb2668>"
      ]
     },
     "execution_count": 179,
     "metadata": {},
     "output_type": "execute_result"
    }
   ],
   "source": [
    "query = \"\"\"\n",
    "USING PERIODIC COMMIT 2\n",
    "LOAD CSV WITH HEADERS FROM 'file:///sample1.csv' AS line FIELDTERMINATOR ','\n",
    "MERGE (c: Car {brand: line.carBrand})\n",
    "\"\"\"\n",
    "graph.run(query)"
   ]
  },
  {
   "cell_type": "code",
   "execution_count": 180,
   "metadata": {},
   "outputs": [
    {
     "data": {
      "text/plain": [
       "<py2neo.database.Cursor at 0x7f5ca7cb20b8>"
      ]
     },
     "execution_count": 180,
     "metadata": {},
     "output_type": "execute_result"
    }
   ],
   "source": [
    "query = \"\"\"\n",
    "USING PERIODIC COMMIT 2\n",
    "LOAD CSV WITH HEADERS FROM 'file:///sample1.csv' AS line FIELDTERMINATOR ','\n",
    "MATCH (p: Person {name: trim(line.name)})\n",
    "MATCH (c: Car {brand: line.carBrand})\n",
    "MERGE (p)-[:DRIVES]->(c)\n",
    "\"\"\"\n",
    "graph.run(query)"
   ]
  },
  {
   "cell_type": "markdown",
   "metadata": {},
   "source": [
    "## reading data to a dataframe is better to use %cypher"
   ]
  },
  {
   "cell_type": "code",
   "execution_count": 9,
   "metadata": {},
   "outputs": [
    {
     "name": "stdout",
     "output_type": "stream",
     "text": [
      "Collecting ipython-cypher\n",
      "Requirement already satisfied: pandas in /opt/conda/lib/python3.7/site-packages (0.24.2)\n",
      "Collecting neo4jrestclient>=2.1.0 (from ipython-cypher)\n",
      "Collecting prettytable (from ipython-cypher)\n",
      "Requirement already satisfied: ipython>=1.0 in /opt/conda/lib/python3.7/site-packages (from ipython-cypher) (7.3.0)\n",
      "Requirement already satisfied: pytz>=2011k in /opt/conda/lib/python3.7/site-packages (from pandas) (2018.9)\n",
      "Requirement already satisfied: python-dateutil>=2.5.0 in /opt/conda/lib/python3.7/site-packages (from pandas) (2.8.0)\n",
      "Requirement already satisfied: numpy>=1.12.0 in /opt/conda/lib/python3.7/site-packages (from pandas) (1.16.2)\n",
      "Requirement already satisfied: requests>=2.1.0 in /opt/conda/lib/python3.7/site-packages (from neo4jrestclient>=2.1.0->ipython-cypher) (2.21.0)\n",
      "Requirement already satisfied: setuptools>=18.5 in /opt/conda/lib/python3.7/site-packages (from ipython>=1.0->ipython-cypher) (40.8.0)\n",
      "Requirement already satisfied: jedi>=0.10 in /opt/conda/lib/python3.7/site-packages (from ipython>=1.0->ipython-cypher) (0.13.3)\n",
      "Requirement already satisfied: decorator in /opt/conda/lib/python3.7/site-packages (from ipython>=1.0->ipython-cypher) (4.3.2)\n",
      "Requirement already satisfied: pickleshare in /opt/conda/lib/python3.7/site-packages (from ipython>=1.0->ipython-cypher) (0.7.5)\n",
      "Requirement already satisfied: traitlets>=4.2 in /opt/conda/lib/python3.7/site-packages (from ipython>=1.0->ipython-cypher) (4.3.2)\n",
      "Requirement already satisfied: prompt_toolkit<2.1.0,>=2.0.0 in /opt/conda/lib/python3.7/site-packages (from ipython>=1.0->ipython-cypher) (2.0.9)\n",
      "Requirement already satisfied: pygments in /opt/conda/lib/python3.7/site-packages (from ipython>=1.0->ipython-cypher) (2.3.1)\n",
      "Requirement already satisfied: backcall in /opt/conda/lib/python3.7/site-packages (from ipython>=1.0->ipython-cypher) (0.1.0)\n",
      "Requirement already satisfied: pexpect in /opt/conda/lib/python3.7/site-packages (from ipython>=1.0->ipython-cypher) (4.6.0)\n",
      "Requirement already satisfied: six>=1.5 in /opt/conda/lib/python3.7/site-packages (from python-dateutil>=2.5.0->pandas) (1.12.0)\n",
      "Requirement already satisfied: certifi>=2017.4.17 in /opt/conda/lib/python3.7/site-packages (from requests>=2.1.0->neo4jrestclient>=2.1.0->ipython-cypher) (2019.3.9)\n",
      "Requirement already satisfied: chardet<3.1.0,>=3.0.2 in /opt/conda/lib/python3.7/site-packages (from requests>=2.1.0->neo4jrestclient>=2.1.0->ipython-cypher) (3.0.4)\n",
      "Requirement already satisfied: idna<2.9,>=2.5 in /opt/conda/lib/python3.7/site-packages (from requests>=2.1.0->neo4jrestclient>=2.1.0->ipython-cypher) (2.8)\n",
      "Requirement already satisfied: urllib3<1.25,>=1.21.1 in /opt/conda/lib/python3.7/site-packages (from requests>=2.1.0->neo4jrestclient>=2.1.0->ipython-cypher) (1.24.1)\n",
      "Requirement already satisfied: parso>=0.3.0 in /opt/conda/lib/python3.7/site-packages (from jedi>=0.10->ipython>=1.0->ipython-cypher) (0.3.4)\n",
      "Requirement already satisfied: ipython_genutils in /opt/conda/lib/python3.7/site-packages (from traitlets>=4.2->ipython>=1.0->ipython-cypher) (0.2.0)\n",
      "Requirement already satisfied: wcwidth in /opt/conda/lib/python3.7/site-packages (from prompt_toolkit<2.1.0,>=2.0.0->ipython>=1.0->ipython-cypher) (0.1.7)\n",
      "Requirement already satisfied: ptyprocess>=0.5 in /opt/conda/lib/python3.7/site-packages (from pexpect->ipython>=1.0->ipython-cypher) (0.6.0)\n",
      "Installing collected packages: neo4jrestclient, prettytable, ipython-cypher\n",
      "Successfully installed ipython-cypher-0.2.6 neo4jrestclient-2.1.1 prettytable-0.7.2\n"
     ]
    }
   ],
   "source": [
    "!pip install ipython-cypher pandas"
   ]
  },
  {
   "cell_type": "code",
   "execution_count": null,
   "metadata": {},
   "outputs": [],
   "source": [
    "neo_server = \"52.15.124.208\"\n",
    "user = \"neo4j\"\n",
    "passw = \"digityser\""
   ]
  },
  {
   "cell_type": "code",
   "execution_count": 157,
   "metadata": {},
   "outputs": [],
   "source": [
    "%config CypherMagic.uri=\"http://\"+user+\":\"+passw+\"@\"+neo_server+\":7474/db/data\""
   ]
  },
  {
   "cell_type": "code",
   "execution_count": 82,
   "metadata": {},
   "outputs": [],
   "source": [
    "%load_ext cypher"
   ]
  },
  {
   "cell_type": "code",
   "execution_count": 181,
   "metadata": {},
   "outputs": [
    {
     "name": "stdout",
     "output_type": "stream",
     "text": [
      "7 rows affected.\n"
     ]
    }
   ],
   "source": [
    "data = %cypher \\\n",
    "MATCH (p:Person)-[:DRIVES]->(c:Car) \\\n",
    "RETURN p.name, p.birthyear, c.brand"
   ]
  },
  {
   "cell_type": "code",
   "execution_count": 89,
   "metadata": {},
   "outputs": [],
   "source": [
    "import pandas as pd"
   ]
  },
  {
   "cell_type": "code",
   "execution_count": 182,
   "metadata": {},
   "outputs": [
    {
     "data": {
      "text/html": [
       "<div>\n",
       "<style scoped>\n",
       "    .dataframe tbody tr th:only-of-type {\n",
       "        vertical-align: middle;\n",
       "    }\n",
       "\n",
       "    .dataframe tbody tr th {\n",
       "        vertical-align: top;\n",
       "    }\n",
       "\n",
       "    .dataframe thead th {\n",
       "        text-align: right;\n",
       "    }\n",
       "</style>\n",
       "<table border=\"1\" class=\"dataframe\">\n",
       "  <thead>\n",
       "    <tr style=\"text-align: right;\">\n",
       "      <th></th>\n",
       "      <th>p.name</th>\n",
       "      <th>p.birthyear</th>\n",
       "      <th>c.brand</th>\n",
       "    </tr>\n",
       "  </thead>\n",
       "  <tbody>\n",
       "    <tr>\n",
       "      <th>0</th>\n",
       "      <td>Susan Sarandon</td>\n",
       "      <td>1946</td>\n",
       "      <td>Renault</td>\n",
       "    </tr>\n",
       "    <tr>\n",
       "      <th>1</th>\n",
       "      <td>Kevin Albert</td>\n",
       "      <td>1981</td>\n",
       "      <td>Renault</td>\n",
       "    </tr>\n",
       "    <tr>\n",
       "      <th>2</th>\n",
       "      <td>Diane Keaton</td>\n",
       "      <td>1946</td>\n",
       "      <td>Tesla</td>\n",
       "    </tr>\n",
       "    <tr>\n",
       "      <th>3</th>\n",
       "      <td>Goldie Hawn</td>\n",
       "      <td>1945</td>\n",
       "      <td>Tesla</td>\n",
       "    </tr>\n",
       "    <tr>\n",
       "      <th>4</th>\n",
       "      <td>Julia Roberts</td>\n",
       "      <td>1967</td>\n",
       "      <td>VW</td>\n",
       "    </tr>\n",
       "    <tr>\n",
       "      <th>5</th>\n",
       "      <td>Ariel Winter</td>\n",
       "      <td>1998</td>\n",
       "      <td>BMW</td>\n",
       "    </tr>\n",
       "    <tr>\n",
       "      <th>6</th>\n",
       "      <td>Holly Hunter</td>\n",
       "      <td>1958</td>\n",
       "      <td>BMW</td>\n",
       "    </tr>\n",
       "  </tbody>\n",
       "</table>\n",
       "</div>"
      ],
      "text/plain": [
       "           p.name  p.birthyear  c.brand\n",
       "0  Susan Sarandon         1946  Renault\n",
       "1    Kevin Albert         1981  Renault\n",
       "2    Diane Keaton         1946    Tesla\n",
       "3     Goldie Hawn         1945    Tesla\n",
       "4   Julia Roberts         1967       VW\n",
       "5    Ariel Winter         1998      BMW\n",
       "6    Holly Hunter         1958      BMW"
      ]
     },
     "execution_count": 182,
     "metadata": {},
     "output_type": "execute_result"
    }
   ],
   "source": [
    "df = data.get_dataframe()\n",
    "df"
   ]
  },
  {
   "cell_type": "code",
   "execution_count": 183,
   "metadata": {},
   "outputs": [
    {
     "data": {
      "text/plain": [
       "'Kevin Albert'"
      ]
     },
     "execution_count": 183,
     "metadata": {},
     "output_type": "execute_result"
    }
   ],
   "source": [
    "df.loc[1][0]"
   ]
  },
  {
   "cell_type": "code",
   "execution_count": null,
   "metadata": {},
   "outputs": [],
   "source": []
  },
  {
   "cell_type": "markdown",
   "metadata": {},
   "source": [
    "# let's try loading 2016 data from DataforbetterHealth"
   ]
  },
  {
   "cell_type": "code",
   "execution_count": 1,
   "metadata": {},
   "outputs": [],
   "source": [
    "from py2neo import Graph"
   ]
  },
  {
   "cell_type": "code",
   "execution_count": 2,
   "metadata": {},
   "outputs": [],
   "source": [
    "neo_server = \"52.15.124.208\"\n",
    "user = \"neo4j\"\n",
    "passw = \"digityser\"\n",
    "file = \"df_clean_v22016.csv\""
   ]
  },
  {
   "cell_type": "code",
   "execution_count": 3,
   "metadata": {},
   "outputs": [],
   "source": [
    "graph = Graph(host=neo_server, auth=(user, passw))"
   ]
  },
  {
   "cell_type": "code",
   "execution_count": 22,
   "metadata": {},
   "outputs": [],
   "source": [
    "graph.delete_all()"
   ]
  },
  {
   "cell_type": "code",
   "execution_count": 5,
   "metadata": {},
   "outputs": [
    {
     "name": "stdout",
     "output_type": "stream",
     "text": [
      "Province,hosp_serv_id,reimbt_cat_id,drug_code,realization_date,amount_reimb,amount_not_reimb,type_drug_code,famille_produit_pharma,drug_name_aggregated,conditionnement,mode_administration,date_debut_rembourse,statut_produit_pharma,code_atc,code_atc_5,code_atc_4,code_atc_3,code_atc_1,DDD,nombre_prises,orphan_flag,chapter_IV_bis_flag,link_same_tablet,dbegin,dend,reimbt_cat_desc_nl,reimbt_crit_long,reimbt_crit_short,reimbt_cat_fixed_rate_yn,fee_cat,quantity_returned,quantity_delivered\r\n"
     ]
    }
   ],
   "source": [
    "# uploaded a csv 283MB /import \"df_clean_v22016.csv\"\n",
    "!head -n 1 ../neo4j/import/df_clean_v22016.csv"
   ]
  },
  {
   "cell_type": "code",
   "execution_count": 6,
   "metadata": {},
   "outputs": [],
   "source": [
    "query = \"\"\"\n",
    "LOAD CSV WITH HEADERS FROM 'file:///\"\"\"+file+\"\"\"' AS line\n",
    "WITH line\n",
    "LIMIT 1\n",
    "RETURN line\n",
    "\"\"\""
   ]
  },
  {
   "cell_type": "code",
   "execution_count": 7,
   "metadata": {},
   "outputs": [],
   "source": [
    "data = graph.run(query)"
   ]
  },
  {
   "cell_type": "code",
   "execution_count": 8,
   "metadata": {},
   "outputs": [
    {
     "data": {
      "text/plain": [
       "<Record line={'mode_administration': 'INJECTION', 'quantity_returned': '0', 'DDD': '1.0', 'chapter_IV_bis_flag': 'False', 'drug_code': '0716191', 'fee_cat': 'A', 'famille_produit_pharma': 'Spécialité pharmaceutique', 'reimbt_cat_id': '750724', 'conditionnement': '* pr. amp. I.V. 1 x 1 mg/2 ml', 'realization_date': '2016', 'dend': '2099-12-31', 'reimbt_crit_long': 'A', 'hosp_serv_id': '2', 'drug_name_aggregated': 'RAPIFEN', 'statut_produit_pharma': 'orig', 'orphan_flag': 'False', 'quantity_delivered': '1', 'reimbt_cat_fixed_rate_yn': 'False', 'link_same_tablet': '-15373.0', 'Province': 'Antwerpen', 'type_drug_code': 'Unit', 'amount_reimb': '0.45', 'code_atc_5': 'N01AH', 'code_atc_4': 'N01A', 'code_atc_3': 'N01', 'code_atc': 'N01AH02', 'nombre_prises': '0.0', 'code_atc_1': 'N', 'reimbt_crit_short': 'A', 'date_debut_rembourse': '1984-03-01', 'dbegin': '1985-04-01', 'amount_not_reimb': '0.0', 'reimbt_cat_desc_nl': 'Farmaceutische specialiteit van categorie A'}>"
      ]
     },
     "execution_count": 8,
     "metadata": {},
     "output_type": "execute_result"
    }
   ],
   "source": [
    "next(data)"
   ]
  },
  {
   "cell_type": "markdown",
   "metadata": {},
   "source": [
    "## loading data"
   ]
  },
  {
   "cell_type": "code",
   "execution_count": 23,
   "metadata": {},
   "outputs": [
    {
     "data": {
      "text/plain": [
       "<py2neo.database.Cursor at 0x7fe806473470>"
      ]
     },
     "execution_count": 23,
     "metadata": {},
     "output_type": "execute_result"
    }
   ],
   "source": [
    "query = \"\"\"\n",
    "CREATE CONSTRAINT ON (h: Hospital) ASSERT (h.hosp_serv_id) IS UNIQUE\n",
    "\"\"\"\n",
    "graph.run(query)"
   ]
  },
  {
   "cell_type": "code",
   "execution_count": 24,
   "metadata": {},
   "outputs": [
    {
     "data": {
      "text/plain": [
       "<py2neo.database.Cursor at 0x7fe806473b00>"
      ]
     },
     "execution_count": 24,
     "metadata": {},
     "output_type": "execute_result"
    }
   ],
   "source": [
    "query = \"\"\"\n",
    "USING PERIODIC COMMIT 100\n",
    "LOAD CSV WITH HEADERS FROM 'file:///\"\"\"+file+\"\"\"' AS line FIELDTERMINATOR ','\n",
    "MERGE (h: Hospital {hosp_serv_id: toInteger(line.hosp_serv_id)})\n",
    "\"\"\"\n",
    "graph.run(query)"
   ]
  },
  {
   "cell_type": "code",
   "execution_count": 25,
   "metadata": {},
   "outputs": [
    {
     "data": {
      "text/plain": [
       "<py2neo.database.Cursor at 0x7fe806473ac8>"
      ]
     },
     "execution_count": 25,
     "metadata": {},
     "output_type": "execute_result"
    }
   ],
   "source": [
    "query = \"\"\"\n",
    "CREATE CONSTRAINT ON (p: Province) ASSERT (p.name) IS UNIQUE\n",
    "\"\"\"\n",
    "graph.run(query)"
   ]
  },
  {
   "cell_type": "code",
   "execution_count": 26,
   "metadata": {},
   "outputs": [
    {
     "data": {
      "text/plain": [
       "<py2neo.database.Cursor at 0x7fe806467320>"
      ]
     },
     "execution_count": 26,
     "metadata": {},
     "output_type": "execute_result"
    }
   ],
   "source": [
    "query = \"\"\"\n",
    "USING PERIODIC COMMIT 100\n",
    "LOAD CSV WITH HEADERS FROM 'file:///\"\"\"+file+\"\"\"' AS line FIELDTERMINATOR ','\n",
    "MERGE (p: Province {name: line.Province})\n",
    "\"\"\"\n",
    "graph.run(query)"
   ]
  },
  {
   "cell_type": "code",
   "execution_count": 27,
   "metadata": {},
   "outputs": [
    {
     "data": {
      "text/plain": [
       "<py2neo.database.Cursor at 0x7fe80647b080>"
      ]
     },
     "execution_count": 27,
     "metadata": {},
     "output_type": "execute_result"
    }
   ],
   "source": [
    "query = \"\"\"\n",
    "CREATE CONSTRAINT ON (d: Drug) ASSERT (d.code) IS UNIQUE\n",
    "\"\"\"\n",
    "graph.run(query)"
   ]
  },
  {
   "cell_type": "code",
   "execution_count": 28,
   "metadata": {},
   "outputs": [],
   "source": [
    "# query = \"\"\"\n",
    "# USING PERIODIC COMMIT 100\n",
    "# LOAD CSV WITH HEADERS FROM 'file:///\"\"\"+file+\"\"\"' AS line FIELDTERMINATOR ','\n",
    "# MERGE (d: Drug {code: line.drug_code})\n",
    "# \"\"\"\n",
    "# graph.run(query)"
   ]
  },
  {
   "cell_type": "code",
   "execution_count": 29,
   "metadata": {},
   "outputs": [
    {
     "data": {
      "text/plain": [
       "<py2neo.database.Cursor at 0x7fe80647b860>"
      ]
     },
     "execution_count": 29,
     "metadata": {},
     "output_type": "execute_result"
    }
   ],
   "source": [
    "query = \"\"\"\n",
    "USING PERIODIC COMMIT 100\n",
    "LOAD CSV WITH HEADERS FROM 'file:///\"\"\"+file+\"\"\"' AS line FIELDTERMINATOR ','\n",
    "MERGE (d: Drug {code: line.drug_code,\n",
    "                type_drug_code: line.type_drug_code,\n",
    "                drug_name_aggregated: line.drug_name_aggregated,\n",
    "                code_atc: line.code_atc})\n",
    "\"\"\"\n",
    "graph.run(query)"
   ]
  },
  {
   "cell_type": "markdown",
   "metadata": {},
   "source": [
    "## creating relations"
   ]
  },
  {
   "cell_type": "code",
   "execution_count": 30,
   "metadata": {},
   "outputs": [
    {
     "data": {
      "text/plain": [
       "<py2neo.database.Cursor at 0x7fe80647b828>"
      ]
     },
     "execution_count": 30,
     "metadata": {},
     "output_type": "execute_result"
    }
   ],
   "source": [
    "query = \"\"\"\n",
    "USING PERIODIC COMMIT 100\n",
    "LOAD CSV WITH HEADERS FROM 'file:///\"\"\"+file+\"\"\"' AS line FIELDTERMINATOR ','\n",
    "MATCH (h: Hospital {hosp_serv_id: toInteger(line.hosp_serv_id)})\n",
    "MATCH (p: Province {name: line.Province})\n",
    "MERGE (h)-[:LOCATED]->(p)\n",
    "\"\"\"\n",
    "graph.run(query)"
   ]
  },
  {
   "cell_type": "code",
   "execution_count": 31,
   "metadata": {},
   "outputs": [
    {
     "data": {
      "text/plain": [
       "<py2neo.database.Cursor at 0x7fe80647b8d0>"
      ]
     },
     "execution_count": 31,
     "metadata": {},
     "output_type": "execute_result"
    }
   ],
   "source": [
    "query = \"\"\"\n",
    "USING PERIODIC COMMIT 100\n",
    "LOAD CSV WITH HEADERS FROM 'file:///\"\"\"+file+\"\"\"' AS line FIELDTERMINATOR ','\n",
    "MATCH (h: Hospital {hosp_serv_id: toInteger(line.hosp_serv_id)})\n",
    "MATCH (d: Drug {code: line.drug_code})\n",
    "MERGE (h)-[:USE]->(d)\n",
    "\"\"\"\n",
    "graph.run(query)"
   ]
  },
  {
   "cell_type": "code",
   "execution_count": null,
   "metadata": {},
   "outputs": [],
   "source": []
  },
  {
   "cell_type": "code",
   "execution_count": null,
   "metadata": {},
   "outputs": [],
   "source": []
  },
  {
   "cell_type": "code",
   "execution_count": null,
   "metadata": {},
   "outputs": [],
   "source": []
  },
  {
   "cell_type": "code",
   "execution_count": null,
   "metadata": {},
   "outputs": [],
   "source": []
  },
  {
   "cell_type": "code",
   "execution_count": null,
   "metadata": {},
   "outputs": [],
   "source": []
  },
  {
   "cell_type": "markdown",
   "metadata": {},
   "source": [
    "## reading data"
   ]
  },
  {
   "cell_type": "code",
   "execution_count": 2,
   "metadata": {},
   "outputs": [],
   "source": [
    "neo_server = \"52.15.124.208\"\n",
    "user = \"neo4j\"\n",
    "passw = \"digityser\""
   ]
  },
  {
   "cell_type": "code",
   "execution_count": 3,
   "metadata": {},
   "outputs": [],
   "source": [
    "%config CypherMagic.uri=\"http://\"+user+\":\"+passw+\"@\"+neo_server+\":7474/db/data\""
   ]
  },
  {
   "cell_type": "code",
   "execution_count": 4,
   "metadata": {},
   "outputs": [],
   "source": [
    "%load_ext cypher"
   ]
  },
  {
   "cell_type": "code",
   "execution_count": 5,
   "metadata": {},
   "outputs": [
    {
     "name": "stdout",
     "output_type": "stream",
     "text": [
      "7 rows affected.\n"
     ]
    }
   ],
   "source": [
    "data = %cypher \\\n",
    "MATCH (n:Drug) \\\n",
    "WHERE n.drug_name_aggregated = \"IMODIUM\" \\\n",
    "RETURN n.drug_name_aggregated, n.code_atc, n.type_drug_code"
   ]
  },
  {
   "cell_type": "code",
   "execution_count": 6,
   "metadata": {},
   "outputs": [],
   "source": [
    "import pandas as pd"
   ]
  },
  {
   "cell_type": "code",
   "execution_count": 7,
   "metadata": {},
   "outputs": [
    {
     "data": {
      "text/html": [
       "<div>\n",
       "<style scoped>\n",
       "    .dataframe tbody tr th:only-of-type {\n",
       "        vertical-align: middle;\n",
       "    }\n",
       "\n",
       "    .dataframe tbody tr th {\n",
       "        vertical-align: top;\n",
       "    }\n",
       "\n",
       "    .dataframe thead th {\n",
       "        text-align: right;\n",
       "    }\n",
       "</style>\n",
       "<table border=\"1\" class=\"dataframe\">\n",
       "  <thead>\n",
       "    <tr style=\"text-align: right;\">\n",
       "      <th></th>\n",
       "      <th>n.drug_name_aggregated</th>\n",
       "      <th>n.code_atc</th>\n",
       "      <th>n.type_drug_code</th>\n",
       "    </tr>\n",
       "  </thead>\n",
       "  <tbody>\n",
       "    <tr>\n",
       "      <th>0</th>\n",
       "      <td>IMODIUM</td>\n",
       "      <td>A07DA03</td>\n",
       "      <td>Package</td>\n",
       "    </tr>\n",
       "    <tr>\n",
       "      <th>1</th>\n",
       "      <td>IMODIUM</td>\n",
       "      <td>A07DA03</td>\n",
       "      <td>Unit</td>\n",
       "    </tr>\n",
       "    <tr>\n",
       "      <th>2</th>\n",
       "      <td>IMODIUM</td>\n",
       "      <td>A07DA03</td>\n",
       "      <td>Package</td>\n",
       "    </tr>\n",
       "    <tr>\n",
       "      <th>3</th>\n",
       "      <td>IMODIUM</td>\n",
       "      <td>A07DA03</td>\n",
       "      <td>Unit</td>\n",
       "    </tr>\n",
       "    <tr>\n",
       "      <th>4</th>\n",
       "      <td>IMODIUM</td>\n",
       "      <td>A07DA03</td>\n",
       "      <td>Unit</td>\n",
       "    </tr>\n",
       "    <tr>\n",
       "      <th>5</th>\n",
       "      <td>IMODIUM</td>\n",
       "      <td>A07DA53</td>\n",
       "      <td>Package</td>\n",
       "    </tr>\n",
       "    <tr>\n",
       "      <th>6</th>\n",
       "      <td>IMODIUM</td>\n",
       "      <td>A07DA03</td>\n",
       "      <td>Package</td>\n",
       "    </tr>\n",
       "  </tbody>\n",
       "</table>\n",
       "</div>"
      ],
      "text/plain": [
       "  n.drug_name_aggregated n.code_atc n.type_drug_code\n",
       "0                IMODIUM    A07DA03          Package\n",
       "1                IMODIUM    A07DA03             Unit\n",
       "2                IMODIUM    A07DA03          Package\n",
       "3                IMODIUM    A07DA03             Unit\n",
       "4                IMODIUM    A07DA03             Unit\n",
       "5                IMODIUM    A07DA53          Package\n",
       "6                IMODIUM    A07DA03          Package"
      ]
     },
     "execution_count": 7,
     "metadata": {},
     "output_type": "execute_result"
    }
   ],
   "source": [
    "df = data.get_dataframe()\n",
    "df"
   ]
  },
  {
   "cell_type": "code",
   "execution_count": null,
   "metadata": {},
   "outputs": [],
   "source": []
  },
  {
   "cell_type": "code",
   "execution_count": null,
   "metadata": {},
   "outputs": [],
   "source": []
  },
  {
   "cell_type": "code",
   "execution_count": null,
   "metadata": {},
   "outputs": [],
   "source": []
  },
  {
   "cell_type": "code",
   "execution_count": null,
   "metadata": {},
   "outputs": [],
   "source": []
  },
  {
   "cell_type": "code",
   "execution_count": null,
   "metadata": {},
   "outputs": [],
   "source": []
  },
  {
   "cell_type": "code",
   "execution_count": null,
   "metadata": {},
   "outputs": [],
   "source": []
  },
  {
   "cell_type": "code",
   "execution_count": null,
   "metadata": {},
   "outputs": [],
   "source": []
  },
  {
   "cell_type": "code",
   "execution_count": null,
   "metadata": {},
   "outputs": [],
   "source": []
  }
 ],
 "metadata": {
  "kernelspec": {
   "display_name": "Python 3",
   "language": "python",
   "name": "python3"
  },
  "language_info": {
   "codemirror_mode": {
    "name": "ipython",
    "version": 3
   },
   "file_extension": ".py",
   "mimetype": "text/x-python",
   "name": "python",
   "nbconvert_exporter": "python",
   "pygments_lexer": "ipython3",
   "version": "3.7.1"
  }
 },
 "nbformat": 4,
 "nbformat_minor": 2
}
